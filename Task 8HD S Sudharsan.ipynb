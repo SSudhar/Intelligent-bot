{
 "cells": [
  {
   "cell_type": "code",
   "execution_count": 1,
   "id": "b2f4802c",
   "metadata": {},
   "outputs": [],
   "source": [
    "from azure.ai.textanalytics import TextAnalyticsClient\n",
    "from azure.cognitiveservices.vision.computervision import ComputerVisionClient\n",
    "from azure.cognitiveservices.speech import SpeechConfig, SpeechRecognizer\n",
    "\n",
    "from azure.core.credentials import AzureKeyCredential\n",
    "from botframework.connector.auth import MicrosoftAppCredentials\n",
    "\n",
    "from botbuilder.core import BotFrameworkAdapter, TurnContext, BotFrameworkAdapterSettings\n",
    "from botbuilder.schema import Activity, ActivityTypes\n",
    "import asyncio"
   ]
  },
  {
   "cell_type": "code",
   "execution_count": 2,
   "id": "3251b533",
   "metadata": {},
   "outputs": [],
   "source": [
    "# Initialize the text analytics config\n",
    "text_analytics_key = \"f66df12b36154fd68e65657ac0bd123e\"\n",
    "text_analytics_endpoint = \"https://task8hd-language.cognitiveservices.azure.com/\"\n",
    "# Initialize the text recognizer\n",
    "text_analytics = TextAnalyticsClient(endpoint=text_analytics_endpoint, credential = AzureKeyCredential(text_analytics_key))\n",
    "\n",
    "# Initialize the Speech config\n",
    "speech_key = \"f188a4b93b75411e811116427c21b44e\"\n",
    "speech_region = \"westeurope\"\n",
    "speech_config = SpeechConfig(subscription=speech_key, region=speech_region)\n",
    "# Initialize the Speech recognizer\n",
    "speech_recognizer = SpeechRecognizer(speech_config=speech_config)\n",
    "\n",
    "# Initialize the Vision config\n",
    "vision_key = \"dfbee0faae974e81b4f9d1cf21ec9c5f\"\n",
    "vision_endpoint = \"https://task8hd-vision.cognitiveservices.azure.com/\"\n",
    "# Initialize the Vision analyzer\n",
    "vision_client = ComputerVisionClient(vision_endpoint, AzureKeyCredential(vision_key))"
   ]
  },
  {
   "cell_type": "code",
   "execution_count": 3,
   "id": "e9b60e45",
   "metadata": {},
   "outputs": [],
   "source": [
    "# Configure bot credentials\n",
    "app_id = '273cc97a-38f4-44a4-a480-5f2dab7de050'\n",
    "app_password = '08nLSY9ML8Q.tC0wzlAwegyJC4Gf2KzFARzpNPLNMqxsUriuh84D1Ps'\n",
    "\n",
    "# Create Bot Framework Adapter Settings\n",
    "adapter_settings = BotFrameworkAdapterSettings(app_id = app_id, app_password = app_password)\n",
    "\n",
    "# Initialize Bot Framework Adapter with the settings\n",
    "adapter = BotFrameworkAdapter(adapter_settings)"
   ]
  },
  {
   "cell_type": "code",
   "execution_count": 6,
   "id": "ec4b4dcc",
   "metadata": {},
   "outputs": [],
   "source": [
    "async def process_message(activity: Activity):\n",
    "    text = activity.text\n",
    "    if activity.attachments:\n",
    "        attachment = activity.attachments[0]\n",
    "        if attachment.content_type.startswith(\"image/\"):\n",
    "            # Image input, use Computer Vision\n",
    "            image_url = attachment.content_url\n",
    "            result = vision_client.describe_image(image_url)\n",
    "            response = f\"Computer Vision detected: {result.captions[0].text}\"\n",
    "        else:\n",
    "            response = \"Unsupported attachment type\"\n",
    "    else:\n",
    "        # Text input, use Text Analytics\n",
    "        sentiment = text_analytics.sentiment(text)\n",
    "        response = f\"Sentiment: {sentiment.score}\"\n",
    "    \n",
    "    return response"
   ]
  },
  {
   "cell_type": "code",
   "execution_count": 7,
   "id": "2d7966d1",
   "metadata": {},
   "outputs": [],
   "source": [
    "async def turn_handler(turn_context: TurnContext):\n",
    "    if turn_context.activity.type == ActivityTypes.message:\n",
    "        response = await process_message(turn_context.activity)\n",
    "        await turn_context.send_activity(response)"
   ]
  },
  {
   "cell_type": "code",
   "execution_count": 8,
   "id": "f3a9ab79",
   "metadata": {},
   "outputs": [],
   "source": [
    "async def on_turn(turn_context: TurnContext):\n",
    "    await turn_handler(turn_context)"
   ]
  },
  {
   "cell_type": "code",
   "execution_count": 9,
   "id": "41173a8d",
   "metadata": {},
   "outputs": [],
   "source": [
    "# Start the bot\n",
    "async def main():\n",
    "    async def process_activity(activity: Activity):\n",
    "        await adapter.process_activity(activity, on_turn)\n",
    "    \n",
    "    await process_activity(Activity(type=\"invoke\", name=\"webhook\", value=None))"
   ]
  },
  {
   "cell_type": "code",
   "execution_count": null,
   "id": "24c94bb7",
   "metadata": {},
   "outputs": [],
   "source": [
    "if __name__ == '__main__':\n",
    "    loop = asyncio.get_event_loop()\n",
    "    loop.run_until_complete(main())"
   ]
  },
  {
   "cell_type": "code",
   "execution_count": null,
   "id": "f0946555",
   "metadata": {},
   "outputs": [],
   "source": []
  },
  {
   "cell_type": "code",
   "execution_count": null,
   "id": "af1738aa",
   "metadata": {},
   "outputs": [],
   "source": []
  },
  {
   "cell_type": "code",
   "execution_count": null,
   "id": "443829d0",
   "metadata": {},
   "outputs": [],
   "source": []
  },
  {
   "cell_type": "code",
   "execution_count": null,
   "id": "5aceaf37",
   "metadata": {},
   "outputs": [],
   "source": []
  },
  {
   "cell_type": "code",
   "execution_count": null,
   "id": "2b4d9911",
   "metadata": {},
   "outputs": [],
   "source": []
  },
  {
   "cell_type": "code",
   "execution_count": null,
   "id": "59e1606e",
   "metadata": {},
   "outputs": [],
   "source": []
  },
  {
   "cell_type": "code",
   "execution_count": null,
   "id": "9784150b",
   "metadata": {},
   "outputs": [],
   "source": []
  },
  {
   "cell_type": "code",
   "execution_count": null,
   "id": "98fee0a1",
   "metadata": {},
   "outputs": [],
   "source": []
  },
  {
   "cell_type": "code",
   "execution_count": null,
   "id": "225cc700",
   "metadata": {},
   "outputs": [],
   "source": []
  },
  {
   "cell_type": "code",
   "execution_count": null,
   "id": "a61c0b1f",
   "metadata": {},
   "outputs": [],
   "source": []
  },
  {
   "cell_type": "code",
   "execution_count": null,
   "id": "7db40ff0",
   "metadata": {},
   "outputs": [],
   "source": []
  },
  {
   "cell_type": "code",
   "execution_count": null,
   "id": "9536f77c",
   "metadata": {},
   "outputs": [],
   "source": []
  },
  {
   "cell_type": "code",
   "execution_count": null,
   "id": "c5229f17",
   "metadata": {},
   "outputs": [],
   "source": []
  },
  {
   "cell_type": "code",
   "execution_count": null,
   "id": "a71d5a90",
   "metadata": {},
   "outputs": [],
   "source": []
  },
  {
   "cell_type": "code",
   "execution_count": null,
   "id": "1d90c4ba",
   "metadata": {},
   "outputs": [],
   "source": []
  },
  {
   "cell_type": "code",
   "execution_count": null,
   "id": "669e34bd",
   "metadata": {},
   "outputs": [],
   "source": []
  },
  {
   "cell_type": "code",
   "execution_count": null,
   "id": "0e80a723",
   "metadata": {},
   "outputs": [],
   "source": []
  },
  {
   "cell_type": "code",
   "execution_count": null,
   "id": "1ede400e",
   "metadata": {},
   "outputs": [],
   "source": []
  },
  {
   "cell_type": "code",
   "execution_count": null,
   "id": "6e6d296f",
   "metadata": {},
   "outputs": [],
   "source": []
  },
  {
   "cell_type": "code",
   "execution_count": null,
   "id": "db56ce45",
   "metadata": {},
   "outputs": [],
   "source": []
  },
  {
   "cell_type": "code",
   "execution_count": null,
   "id": "7a019c37",
   "metadata": {},
   "outputs": [],
   "source": [
    "async def on_message_activity(self, turn_context: TurnContext):\n",
    "    if turn_context.activity.text:\n",
    "        # Handle text input\n",
    "        response = handle_text_input(turn_context.activity.text)\n",
    "    elif turn_context.activity.attachments:\n",
    "        for attachment in turn_context.activity.attachments:\n",
    "            if attachment.content_type.startswith('audio'):\n",
    "                # Use Azure Speech service to transcribe speech input\n",
    "                result = speech_recognizer.recognize_once(stream=attachment.content)\n",
    "                if result.reason == speechsdk.ResultReason.RecognizedSpeech:\n",
    "                    transcribed_text = result.text\n",
    "                    # Handle transcribed text\n",
    "                    response = handle_text_input(transcribed_text)\n",
    "                else:\n",
    "                    response = \"Speech recognition failed\"\n",
    "            elif attachment.content_type.startswith('image'):\n",
    "                # Use Azure Computer Vision service to analyze image\n",
    "                image_stream = BytesIO(await attachment.open_stream())\n",
    "                response = analyze_image(image_stream)\n",
    "            else:\n",
    "                response = \"Unsupported attachment type\"\n",
    "    else:\n",
    "        response = \"Unsupported input type\"\n",
    "\n",
    "    await turn_context.send_activity(response)\n"
   ]
  },
  {
   "cell_type": "code",
   "execution_count": null,
   "id": "f6bb0769",
   "metadata": {},
   "outputs": [],
   "source": [
    "def analyze_image(image_stream):\n",
    "    # Analyze image using Computer Vision service\n",
    "    image_features = [\"categories\", \"tags\", \"description\"]\n",
    "    analysis = vision_client.analyze_image_in_stream(image_stream, visual_features=image_features)\n",
    "\n",
    "    # Process analysis results\n",
    "    description = analysis.description.captions[0].text if analysis.description.captions else \"No description found\"\n",
    "    tags = ', '.join([tag.name for tag in analysis.tags]) if analysis.tags else \"No tags found\"\n",
    "\n",
    "    return f\"Description: {description}\\nTags: {tags}\""
   ]
  },
  {
   "cell_type": "code",
   "execution_count": null,
   "id": "aad894e4",
   "metadata": {},
   "outputs": [],
   "source": []
  },
  {
   "cell_type": "code",
   "execution_count": null,
   "id": "e9d5ea7b",
   "metadata": {},
   "outputs": [],
   "source": []
  },
  {
   "cell_type": "code",
   "execution_count": null,
   "id": "dad6954c",
   "metadata": {},
   "outputs": [],
   "source": []
  },
  {
   "cell_type": "code",
   "execution_count": null,
   "id": "0a2f09ca",
   "metadata": {},
   "outputs": [],
   "source": []
  }
 ],
 "metadata": {
  "kernelspec": {
   "display_name": "Python 3 (ipykernel)",
   "language": "python",
   "name": "python3"
  },
  "language_info": {
   "codemirror_mode": {
    "name": "ipython",
    "version": 3
   },
   "file_extension": ".py",
   "mimetype": "text/x-python",
   "name": "python",
   "nbconvert_exporter": "python",
   "pygments_lexer": "ipython3",
   "version": "3.11.5"
  }
 },
 "nbformat": 4,
 "nbformat_minor": 5
}
